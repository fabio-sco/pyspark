{
 "cells": [
  {
   "cell_type": "markdown",
   "metadata": {},
   "source": [
    "# Montagem do dataset de concentração de impressões e cliques na lista"
   ]
  },
  {
   "cell_type": "markdown",
   "metadata": {},
   "source": [
    "Início da sessão spark:"
   ]
  },
  {
   "cell_type": "code",
   "execution_count": 37,
   "metadata": {},
   "outputs": [
    {
     "data": {
      "application/vnd.jupyter.widget-view+json": {
       "model_id": "",
       "version_major": 2,
       "version_minor": 0
      },
      "text/plain": [
       "FloatProgress(value=0.0, bar_style='info', description='Progress:', layout=Layout(height='25px', width='50%'),…"
      ]
     },
     "metadata": {},
     "output_type": "display_data"
    }
   ],
   "source": [
    "import pyspark.sql.functions as F"
   ]
  },
  {
   "cell_type": "markdown",
   "metadata": {},
   "source": [
    "Leitura da tabela de performance no datalake do mês de fevereiro de 2021, usaremos estes dados como base da análise:"
   ]
  },
  {
   "cell_type": "code",
   "execution_count": 43,
   "metadata": {},
   "outputs": [
    {
     "data": {
      "application/vnd.jupyter.widget-view+json": {
       "model_id": "",
       "version_major": 2,
       "version_minor": 0
      },
      "text/plain": [
       "FloatProgress(value=0.0, bar_style='info', description='Progress:', layout=Layout(height='25px', width='50%'),…"
      ]
     },
     "metadata": {},
     "output_type": "display_data"
    }
   ],
   "source": [
    "performance = spark.read.parquet('s3://datalake.icarros/raw/performance/ano=2021/mes=01/')"
   ]
  },
  {
   "cell_type": "code",
   "execution_count": 57,
   "metadata": {},
   "outputs": [
    {
     "data": {
      "application/vnd.jupyter.widget-view+json": {
       "model_id": "",
       "version_major": 2,
       "version_minor": 0
      },
      "text/plain": [
       "FloatProgress(value=0.0, bar_style='info', description='Progress:', layout=Layout(height='25px', width='50%'),…"
      ]
     },
     "metadata": {},
     "output_type": "display_data"
    },
    {
     "name": "stdout",
     "output_type": "stream",
     "text": [
      "+--------------------+--------------------+-----------+------------------+--------+--------+---------+-----+-----+--------------------+-----------+--------+------------+-----------------------+---------------+-----------+--------------------+------+------------------+-----------+-------------+----------------+--------------------+---------------+-------+-----------------+-------------------+--------------+--------------------+------------+--------------+--------------------+-----------------------+--------------------+-----------------+-------------+--------+------------+-----------------+------+---------+----------+----------+-------------+-----+----------+----+-----------------+--------------------+---------------+-------+-------------+---------------+------+-------+-----------+---------+--------------------+----------+-----+----+--------------------+---+\n",
      "|           dateevent|           conversao|conversions|valorParcelaMaxima|parceiro|mesmoddd|   visita|midia|leads|                date|idMontadora|   preco|finalResults|propostaFinanciamentoId|interfaceOrigem|simple_date|                  id|versao|valorParcelaMinima|deviceModel|tipoavaliacao|valorselecionado|            firstSop|         userIP|emLinha|consultaPAFonteId|conversionSpotlight|initialResults|anunciantesSpotlight|valorEntrada|numeroParcelas|            anuncios|grupoSistemaOperacional|           origem_id|fichaPreanalisada|grupoRegional| anuncio|divisaoTeste|anunciosSpotlight|modelo|finalPage|propostaId|finalOrder|marcaSegmento|marca|internauta|endo|initialSpotlights|         anunciantes|    deviceBrand|rowtype|statusligacao|finalSpotlights|cidade|usuario|        cpf|anoModelo|fichaRespostaCredito|anunciante|teste|  uf|             lastSop|dia|\n",
      "+--------------------+--------------------+-----------+------------------+--------+--------+---------+-----+-----+--------------------+-----------+--------+------------+-----------------------+---------------+-----------+--------------------+------+------------------+-----------+-------------+----------------+--------------------+---------------+-------+-----------------+-------------------+--------------+--------------------+------------+--------------+--------------------+-----------------------+--------------------+-----------------+-------------+--------+------------+-----------------+------+---------+----------+----------+-------------+-----+----------+----+-----------------+--------------------+---------------+-------+-------------+---------------+------+-------+-----------+---------+--------------------+----------+-----+----+--------------------+---+\n",
      "|2021-01-31T16:54:...|icarrosapp.perfor...|       null|              null|     278|    null|496653947| null| null|2021-01-31T16:54:...|       null| 29999.0|        null|                   null|              1| 2021-01-31|7c0eaeef-d286-40c...| 14153|              null|    Redmi 6|         null|            null|                null|  177.53.31.137|   null|             null|               null|          null|                null|        null|          null|                null|                   3840|                null|             null|         null|31042443|        null|             null|  null|     null|      null|      null|            0| null| 388548261|null|             null|                null|         XiaoMi|   null|         null|           null|  null|   null|       null|     2013|                null|   1411876| null|null|                null| 31|\n",
      "|2021-01-31T07:41:...|icarrosapp.perfor...|       null|              null|     278|    null|496310113| null| null|2021-01-31T07:41:...|       null|204900.0|        null|                   null|              1| 2021-01-31|dca746d7-edef-477...| 25276|              null| E (4) Plus|         null|            null|                null|  189.26.130.17|   null|             null|               null|          null|                null|        null|          null|                null|                   3840|                null|             null|         null|32202540|        null|             null|  null|     null|      null|      null|            0| null| 388206721|null|             null|                null|       Motorola|   null|         null|           null|  8452|   null|       null|     2016|                null|   1329248| null|  SC|                null| 31|\n",
      "|2021-01-31T16:54:...|icarrosapp.perfor...|       null|              null|     278|    null|496654654| null| null|2021-01-31T16:54:...|       null| 20500.0|        null|                   null|              1| 2021-01-31|9f9dfce7-c46e-4fd...|   239|              null|       M320|         null|            null|                null| 177.20.231.182|   null|             null|               null|          null|                null|        null|          null|                null|                   3840|                null|             null|         null|31222952|        null|             null|  null|     null|      null|      null|            0| null| 388547642|null|             null|                null|             LG|   null|         null|           null|  8195|   null|       null|     2004|                null|    126004| null|  RS|                null| 31|\n",
      "|2021-01-31T07:41:...|icarrosapp.perfor...|       null|              null|     192|    null|496310767| 5447| null|2021-01-31T07:41:...|       null|116490.0|        null|                   null|              1| 2021-01-31|4442920d-56fa-40b...| 30723|              null|    LM-X210|         null|            null|                null|  168.0.188.113|   null|             null|               null|          null|                null|        null|          null|                null|                   3840|                null|             null|           97|30207356|        null|             null|  null|     null|      null|      null|            0| null| 388207453|null|             null|                null|Generic_Android|   null|         null|           null|  5114|   null|       null|     2021|                null|      null| null|  PB|                null| 31|\n",
      "|2021-01-31T16:54:...|icarrosapp.perfor...|       null|              null|    null|    null|     null| null| null|2021-01-31T16:54:...|       null|    null|        null|                   null|           null| 2021-01-31|9b75cda9-17f0-40c...|  null|              null|       null|         null|            null|                null|           null|   null|                9|               null|          null|                null|        null|          null|                null|                   null|consultapa_199048106|            false|         null|    null|        null|             null|  null|     null|      null|      null|            0| null|      null|null|             null|                null|           null|   null|         null|           null|  null|   null|85417076600|     null|                null|      null| null|null|                null| 31|\n",
      "|2021-01-31T07:41:...|icarrosapp.perfor...|       null|              null|     278|    null|496304164| null| null|2021-01-31T07:41:...|       null| 17000.0|        null|                   null|              1| 2021-01-31|e1f9fe1d-4a5c-4ee...|  8147|              null| Smartphone|         null|            null|                null|   177.51.84.56|   null|             null|               null|          null|                null|        null|          null|                null|                   3840|                null|             null|         null|24796444|        null|             null|  null|     null|      null|      null|            0| null| 388200947|null|             null|                null|        Generic|   null|         null|           null|  8242|   null|       null|     2010|                null|   1173664| null|  RS|                null| 31|\n",
      "|2021-01-31T16:54:...|icarrosapp.perfor...|       null|              null|     278|    null|496654370| null| null|2021-01-31T16:54:...|       null| 79800.0|        null|                   null|              1| 2021-01-31|3bd1165b-8843-4df...| 15553|              null| Smartphone|         null|            null|                null|191.183.196.163|   null|             null|               null|          null|                null|        null|          null|                null|                   3840|                null|             null|         null|31398217|        null|             null|  null|     null|      null|      null|            0| null| 388548557|null|             null|                null|        Generic|   null|         null|           null|  9432|   null|       null|     2014|                null|   1685524| null|  SP|                null| 31|\n",
      "|2021-01-31T07:41:...|icarrosapp.perfor...|       null|              null|      73|    null|496310808| null| null|2021-01-31T07:41:...|       null| 66990.0|        null|                   null|              0| 2021-01-31|5380ddb9-c831-4c1...| 28715|              null|       null|         null|            null|                null|186.236.215.249|   null|             null|               null|          null|                null|        null|          null|                null|                    513|                null|             null|         null|32083568|        null|             null|  null|     null|      null|      null|            0| null| 388207492|null|             null|                null|           null|   null|         null|           null|  7221|   null|       null|     2019|                null|    149586| null|  RN|                null| 31|\n",
      "|2021-01-31T16:54:...|icarrosapp.perfor...|       null|              null|    null|    null|     null| null| null|2021-01-31T16:54:...|       null|    null|        null|                   null|           null| 2021-01-31|54e83366-3fb6-495...|  null|              null|       null|         null|            null|                null|           null|   null|                9|               null|          null|                null|        null|          null|                null|                   null|consultapa_199048107|             true|         null|    null|        null|             null|  null|     null|      null|      null|            0| null|      null|null|             null|                null|           null|   null|         null|           null|  null|   null|13340869820|     null|                null|      null| null|null|                null| 31|\n",
      "|2021-01-31T07:41:...|icarrosapp.perfor...|       null|              null|     278|    null|496312192| null| null|2021-01-31T07:41:...|       null| 11900.0|        null|                   null|              1| 2021-01-31|b8b0ea67-223d-4ba...| 18005|              null| Smartphone|         null|            null|                null| 179.236.208.99|   null|             null|               null|          null|                null|        null|          null|                null|                   3840|                null|             null|         null|31238200|        null|             null|  null|     null|      null|      null|            0| null| 388208872|null|             null|                null|        Generic|   null|         null|           null|  2754|   null|       null|     2000|                null|   1715671| null|  MG|                null| 31|\n",
      "|2021-01-31T16:54:...|icarrosapp.perfor...|       null|              null|      22|    null|496652904| 5534| null|2021-01-31T16:54:...|       null| 52900.0|        null|                   null|              1| 2021-01-31|18f6e2a6-2aee-4b9...| 26106|              null|   SM-A205G|         null|            null|                null|191.177.186.139|   null|             null|               null|          null|                null|        null|          null|                null|                   3840|                null|             null|         null|31649600|        null|             null|  null|     null|      null|      null|            0| null| 388546724|null|             null|                null|        Samsung|   null|         null|           null|  6015|   null|       null|     2017|                null|   2212893| null|  PR|                null| 31|\n",
      "|2021-01-31T07:41:...|icarrosapp.perfor...|       null|              null|      86|    null|496312529| 3432| null|2021-01-31T07:41:...|       null|    null|        null|                   null|              1| 2021-01-31|a1483962-b0b7-440...|  null|              null|   SM-J105B|         null|            null|                null|   177.94.49.64|   null|             null|               null|          null|                null|        null|          null|                null|                   3840|                null|             null|         null|    null|        null|             null|  null|     null|      null|      null|            0| null| 388209629|null|             null|                null|        Samsung|   null|         null|           null|  9775|   null|       null|     null|                null|   2162548| null|  SP|                null| 31|\n",
      "|2021-01-31T16:54:...|icarrosapp.perfor...|       null|              null|     278|    null|496654369| null| null|2021-01-31T16:54:...|       null| 52990.0|        null|                   null|              1| 2021-01-31|326fc02c-86ab-49b...| 23014|              null|   SM-J610G|         null|            null|                null|  201.88.47.179|   null|             null|               null|          null|                null|        null|          null|                null|                   3840|                null|             null|         null|29542062|        null|             null|  null|     null|      null|      null|            0| null| 388548556|null|             null|                null|        Samsung|   null|         null|           null|  4511|   null|       null|     2011|                null|    265579| null|  MT|                null| 31|\n",
      "|2021-01-31T07:41:...|icarrosapp.perfor...|       null|              null|    null|    null|     null| null| null|2021-01-31T07:41:...|       null|    null|        null|                   null|           null| 2021-01-31|72fe6d05-e50d-4dc...|  null|              null|       null|         null|            null|                null|           null|   null|                9|               null|          null|                null|        null|          null|                null|                   null|consultapa_198950193|            false|         null|    null|        null|             null|  null|     null|      null|      null|            0| null|      null|null|             null|                null|           null|   null|         null|           null|  null|   null|93441355091|     null|                null|      null| null|null|                null| 31|\n",
      "|2021-01-31T16:54:...|icarrosapp.perfor...|       null|              null|     278|    null|496654115| null| null|2021-01-31T16:54:...|       null| 28900.0|        null|                   null|              1| 2021-01-31|d1e7ad41-cb8f-4a6...| 15152|              null| Smartphone|         null|            null|                null|   189.40.66.12|   null|             null|               null|          null|                null|        null|          null|                null|                   3840|                null|             null|         null|32182833|        null|             null|  null|     null|      null|      null|            0| null| 388547304|null|             null|                null|        Generic|   null|         null|           null|  7043|   null|       null|     2014|                null|   1573151| null|  RJ|                null| 31|\n",
      "|2021-01-31T07:41:...|icarrosapp.perfor...|       null|              null|    null|    null|     null| null| null|2021-01-31T07:41:...|       null|    null|        null|                   null|           null| 2021-01-31|68ad5811-db39-497...|  null|              null|       null|         null|            null|                null|           null|   null|                9|               null|          null|                null|        null|          null|                null|                   null|consultapa_198950194|            false|         null|    null|        null|             null|  null|     null|      null|      null|            0| null|      null|null|             null|                null|           null|   null|         null|           null|  null|   null| 1260504140|     null|                null|      null| null|null|                null| 31|\n",
      "|2021-01-31T16:54:...|icarrosapp.perfor...|       null|              null|     150|    null|496651935| null| null|2021-01-31T16:54:...|       null| 35900.0|        null|                   null|              1| 2021-01-31|65f335b6-7ab1-4f8...| 14053|              null| Smartphone|         null|            null|                null| 186.237.167.62|   null|             null|               null|          null|                null|        null|          null|                null|                   3840|                null|             null|         null|32250566|        null|             null|  null|     null|      null|      null|            0| null| 388544926|null|             null|                null|        Generic|   null|         null|           null|  6845|   null|       null|     2013|                null|     70120| null|  RJ|                null| 31|\n",
      "|2021-01-31T07:41:...|icarrosapp.perfor...|       null|              null|      29|    null|496312012| null| null|2021-01-31T07:41:...|       null| 35490.0|        null|                   null|              1| 2021-01-31|aff82d4f-496d-4df...| 27447|              null|   SM-A205G|         null|            null|                null| 45.176.151.108|   null|             null|               null|          null|                null|        null|          null|                null|                   3840|                null|             null|         null|28439409|        null|             null|  null|     null|      null|      null|            0| null| 388209613|null|             null|                null|        Samsung|   null|         null|           null|  6164|   null|       null|     2018|                null|   1878023| null|  PR|                null| 31|\n",
      "|2021-01-31T16:54:...|icarrosapp.perfor...|          0|              null|      73|    null|496643446| null| null|2021-01-31T16:54:...|       null|    null|          25|                   null|              1| 2021-01-31|f8b7f6dd-fd33-477...|  null|              null| Smartphone|         null|            null|[[nta, [17, 44, 5...|  177.69.38.201|   null|             null|                  0|            25|                null|        null|          null|[31377006, 321671...|                   3840|                null|             null|         null|    null|        null|             null|  null|        1|      null|        14|            0| null| 388536966|null|                4|[1357420, 2064519...|        Generic|   null|         null|              4|  2900|   null|       null|     null|                null|      null| null|  MG|[[nta, [17, 44, 5...| 31|\n",
      "|2021-01-31T07:41:...|icarrosapp.perfor...|       null|              null|     278|    null|496310482| null| null|2021-01-31T07:41:...|       null| 40900.0|        null|                   null|              1| 2021-01-31|66e953d9-b652-419...|  7389|              null|   SM-A015M|         null|            null|                null|   45.160.36.53|   null|             null|               null|          null|                null|        null|          null|                null|                   3840|                null|             null|         null|31889872|        null|             null|  null|     null|      null|      null|            0| null| 388208087|null|             null|                null|        Samsung|   null|         null|           null|  8463|   null|       null|     2011|                null|   2036293| null|  SC|                null| 31|\n",
      "+--------------------+--------------------+-----------+------------------+--------+--------+---------+-----+-----+--------------------+-----------+--------+------------+-----------------------+---------------+-----------+--------------------+------+------------------+-----------+-------------+----------------+--------------------+---------------+-------+-----------------+-------------------+--------------+--------------------+------------+--------------+--------------------+-----------------------+--------------------+-----------------+-------------+--------+------------+-----------------+------+---------+----------+----------+-------------+-----+----------+----+-----------------+--------------------+---------------+-------+-------------+---------------+------+-------+-----------+---------+--------------------+----------+-----+----+--------------------+---+\n",
      "only showing top 20 rows"
     ]
    }
   ],
   "source": [
    "performance.show()"
   ]
  },
  {
   "cell_type": "markdown",
   "metadata": {},
   "source": [
    "Reformulação da tabela para o que vamos utilizar:\n",
    "> A partir de \"orderBy\" as transformações são para criar a coluna \"lista\", onde apresenta um array de id de anuncio na ordem em que foi apresentado ao usuário na navegação."
   ]
  },
  {
   "cell_type": "code",
   "execution_count": 44,
   "metadata": {},
   "outputs": [
    {
     "data": {
      "application/vnd.jupyter.widget-view+json": {
       "model_id": "",
       "version_major": 2,
       "version_minor": 0
      },
      "text/plain": [
       "FloatProgress(value=0.0, bar_style='info', description='Progress:', layout=Layout(height='25px', width='50%'),…"
      ]
     },
     "metadata": {},
     "output_type": "display_data"
    },
    {
     "name": "stdout",
     "output_type": "stream",
     "text": [
      "root\n",
      " |-- timestamp: timestamp (nullable = true)\n",
      " |-- tag: string (nullable = true)\n",
      " |-- visita: long (nullable = true)\n",
      " |-- interfaceOrigem: integer (nullable = true)\n",
      " |-- anuncios: array (nullable = true)\n",
      " |    |-- element: integer (containsNull = true)\n",
      " |-- anuncio: integer (nullable = true)\n",
      " |-- finalOrder: integer (nullable = true)\n",
      " |-- len_anuncios: integer (nullable = false)\n",
      " |-- len_lista: integer (nullable = true)\n",
      " |-- lista: array (nullable = true)\n",
      " |    |-- element: integer (containsNull = true)"
     ]
    }
   ],
   "source": [
    "from pyspark.sql.window import Window\n",
    "\n",
    "windowanuncios = Window.partitionBy('visita').orderBy('len_anuncios')\n",
    "\n",
    "df = performance \\\n",
    "    .select(\n",
    "        (F.to_timestamp('dateevent', \"yyyy-MM-dd'T'HH:mm:ssX\") - F.expr(\"INTERVAL 3 HOURS\")).alias('timestamp'),\n",
    "        (F.split('conversao', u'\\.'))[2].alias('tag'),\n",
    "        'visita',\n",
    "        'interfaceOrigem',\n",
    "        'anuncios',\n",
    "        'anuncio',\n",
    "        'finalOrder',\n",
    "        F.when(F.size('anuncios') == -1, 0).otherwise(F.size('anuncios')).alias('len_anuncios')\n",
    "    ) \\\n",
    "    .orderBy(F.col('visita').asc(), F.col('timestamp').asc(), F.col('len_anuncios').asc()) \\\n",
    "    .withColumn('lag', F.lag('len_anuncios', 1).over(windowanuncios)) \\\n",
    "    .withColumn('start', F.col('lag') + 1) \\\n",
    "    .withColumn('len_lista', F.col('len_anuncios') - F.col('lag')) \\\n",
    "    .withColumn('lista', F.when(F.col('tag') == 'busca', F.expr('slice(anuncios, start, len_lista)'))) \\\n",
    "    .drop('lag', 'start')\n",
    "\n",
    "df.printSchema()"
   ]
  },
  {
   "cell_type": "code",
   "execution_count": 45,
   "metadata": {},
   "outputs": [
    {
     "data": {
      "application/vnd.jupyter.widget-view+json": {
       "model_id": "",
       "version_major": 2,
       "version_minor": 0
      },
      "text/plain": [
       "FloatProgress(value=0.0, bar_style='info', description='Progress:', layout=Layout(height='25px', width='50%'),…"
      ]
     },
     "metadata": {},
     "output_type": "display_data"
    },
    {
     "name": "stdout",
     "output_type": "stream",
     "text": [
      "+-------------------+-----+---------+---------------+--------------------+-------+----------+------------+---------+-----+\n",
      "|          timestamp|  tag|   visita|interfaceOrigem|            anuncios|anuncio|finalOrder|len_anuncios|len_lista|lista|\n",
      "+-------------------+-----+---------+---------------+--------------------+-------+----------+------------+---------+-----+\n",
      "|2021-01-01 00:03:07|busca|447804729|              1|[31577260, 318229...|   null|        14|           5|     null| null|\n",
      "|2021-01-01 00:03:36|busca|447807393|              0|[31867588, 318147...|   null|         3|          16|     null| null|\n",
      "|2021-01-01 00:04:22|busca|447807926|              0|[31766251, 313972...|   null|         3|          20|     null| null|\n",
      "|2021-01-01 00:04:45|busca|447808617|              0|[31891416, 318913...|   null|         3|          10|     null| null|\n",
      "|2021-01-01 00:06:25|busca|447808920|              1|[31950197, 319501...|   null|        14|           3|     null| null|\n",
      "+-------------------+-----+---------+---------------+--------------------+-------+----------+------------+---------+-----+\n",
      "only showing top 5 rows"
     ]
    }
   ],
   "source": [
    "df.show(5)"
   ]
  },
  {
   "cell_type": "markdown",
   "metadata": {},
   "source": [
    "Transformação para um dataframe onde busca qual foi o id do anúncio em cada posição da lista:"
   ]
  },
  {
   "cell_type": "code",
   "execution_count": 46,
   "metadata": {},
   "outputs": [
    {
     "data": {
      "application/vnd.jupyter.widget-view+json": {
       "model_id": "",
       "version_major": 2,
       "version_minor": 0
      },
      "text/plain": [
       "FloatProgress(value=0.0, bar_style='info', description='Progress:', layout=Layout(height='25px', width='50%'),…"
      ]
     },
     "metadata": {},
     "output_type": "display_data"
    },
    {
     "name": "stdout",
     "output_type": "stream",
     "text": [
      "root\n",
      " |-- data: date (nullable = true)\n",
      " |-- visita: long (nullable = true)\n",
      " |-- finalOrder: integer (nullable = true)\n",
      " |-- interfaceOrigem: integer (nullable = true)\n",
      " |-- 01: integer (nullable = true)\n",
      " |-- 02: integer (nullable = true)\n",
      " |-- 03: integer (nullable = true)\n",
      " |-- 04: integer (nullable = true)\n",
      " |-- 05: integer (nullable = true)\n",
      " |-- 06: integer (nullable = true)\n",
      " |-- 07: integer (nullable = true)\n",
      " |-- 08: integer (nullable = true)\n",
      " |-- 09: integer (nullable = true)\n",
      " |-- 10: integer (nullable = true)\n",
      " |-- 11: integer (nullable = true)\n",
      " |-- 12: integer (nullable = true)\n",
      " |-- 13: integer (nullable = true)\n",
      " |-- 14: integer (nullable = true)\n",
      " |-- 15: integer (nullable = true)\n",
      " |-- 16: integer (nullable = true)\n",
      " |-- 17: integer (nullable = true)\n",
      " |-- 18: integer (nullable = true)\n",
      " |-- 19: integer (nullable = true)\n",
      " |-- 20: integer (nullable = true)"
     ]
    }
   ],
   "source": [
    "posicoes = df \\\n",
    "    .where(F.col('tag') == 'busca') \\\n",
    "    .select(\n",
    "        F.to_date('timestamp').alias('data'),\n",
    "        'visita',\n",
    "        'finalOrder',\n",
    "        'interfaceOrigem',\n",
    "        F.col('lista').getItem(0).alias('01'),\n",
    "        F.col('lista').getItem(1).alias('02'),\n",
    "        F.col('lista').getItem(2).alias('03'),\n",
    "        F.col('lista').getItem(3).alias('04'),\n",
    "        F.col('lista').getItem(4).alias('05'),\n",
    "        F.col('lista').getItem(5).alias('06'),\n",
    "        F.col('lista').getItem(6).alias('07'),\n",
    "        F.col('lista').getItem(7).alias('08'),\n",
    "        F.col('lista').getItem(8).alias('09'),\n",
    "        F.col('lista').getItem(9).alias('10'),\n",
    "        F.col('lista').getItem(10).alias('11'),\n",
    "        F.col('lista').getItem(11).alias('12'),\n",
    "        F.col('lista').getItem(12).alias('13'),\n",
    "        F.col('lista').getItem(13).alias('14'),\n",
    "        F.col('lista').getItem(14).alias('15'),\n",
    "        F.col('lista').getItem(15).alias('16'),\n",
    "        F.col('lista').getItem(16).alias('17'),\n",
    "        F.col('lista').getItem(17).alias('18'),\n",
    "        F.col('lista').getItem(18).alias('19'),\n",
    "        F.col('lista').getItem(19).alias('20')\n",
    "    )\n",
    "\n",
    "posicoes.printSchema()"
   ]
  },
  {
   "cell_type": "code",
   "execution_count": 47,
   "metadata": {},
   "outputs": [
    {
     "data": {
      "application/vnd.jupyter.widget-view+json": {
       "model_id": "",
       "version_major": 2,
       "version_minor": 0
      },
      "text/plain": [
       "FloatProgress(value=0.0, bar_style='info', description='Progress:', layout=Layout(height='25px', width='50%'),…"
      ]
     },
     "metadata": {},
     "output_type": "display_data"
    },
    {
     "name": "stdout",
     "output_type": "stream",
     "text": [
      "+----------+---------+----------+---------------+----+----+----+----+----+----+----+----+----+----+----+----+----+----+----+----+----+----+----+----+\n",
      "|data      |visita   |finalOrder|interfaceOrigem|01  |02  |03  |04  |05  |06  |07  |08  |09  |10  |11  |12  |13  |14  |15  |16  |17  |18  |19  |20  |\n",
      "+----------+---------+----------+---------------+----+----+----+----+----+----+----+----+----+----+----+----+----+----+----+----+----+----+----+----+\n",
      "|2021-01-01|447804729|14        |1              |null|null|null|null|null|null|null|null|null|null|null|null|null|null|null|null|null|null|null|null|\n",
      "|2021-01-01|447807393|3         |0              |null|null|null|null|null|null|null|null|null|null|null|null|null|null|null|null|null|null|null|null|\n",
      "|2021-01-01|447807926|3         |0              |null|null|null|null|null|null|null|null|null|null|null|null|null|null|null|null|null|null|null|null|\n",
      "|2021-01-01|447808617|3         |0              |null|null|null|null|null|null|null|null|null|null|null|null|null|null|null|null|null|null|null|null|\n",
      "|2021-01-01|447808920|14        |1              |null|null|null|null|null|null|null|null|null|null|null|null|null|null|null|null|null|null|null|null|\n",
      "+----------+---------+----------+---------------+----+----+----+----+----+----+----+----+----+----+----+----+----+----+----+----+----+----+----+----+\n",
      "only showing top 5 rows"
     ]
    }
   ],
   "source": [
    "posicoes.show(5, False)"
   ]
  },
  {
   "cell_type": "markdown",
   "metadata": {},
   "source": [
    "Um segundo dataframe onde cria uma coluna que é uma array de id de anúncios em que houve a visualização (página detalhe) por visita:"
   ]
  },
  {
   "cell_type": "code",
   "execution_count": 48,
   "metadata": {},
   "outputs": [
    {
     "data": {
      "application/vnd.jupyter.widget-view+json": {
       "model_id": "",
       "version_major": 2,
       "version_minor": 0
      },
      "text/plain": [
       "FloatProgress(value=0.0, bar_style='info', description='Progress:', layout=Layout(height='25px', width='50%'),…"
      ]
     },
     "metadata": {},
     "output_type": "display_data"
    },
    {
     "name": "stdout",
     "output_type": "stream",
     "text": [
      "root\n",
      " |-- visita: long (nullable = true)\n",
      " |-- detalhe_lista: array (nullable = true)\n",
      " |    |-- element: integer (containsNull = true)"
     ]
    }
   ],
   "source": [
    "detalhes = df \\\n",
    "    .where(F.col('tag') == 'detalhe') \\\n",
    "    .groupby('visita') \\\n",
    "    .agg(\n",
    "        F.collect_list('anuncio').alias('detalhe_lista')\n",
    "    )\n",
    "\n",
    "detalhes.printSchema()"
   ]
  },
  {
   "cell_type": "code",
   "execution_count": 49,
   "metadata": {},
   "outputs": [
    {
     "data": {
      "application/vnd.jupyter.widget-view+json": {
       "model_id": "",
       "version_major": 2,
       "version_minor": 0
      },
      "text/plain": [
       "FloatProgress(value=0.0, bar_style='info', description='Progress:', layout=Layout(height='25px', width='50%'),…"
      ]
     },
     "metadata": {},
     "output_type": "display_data"
    },
    {
     "name": "stdout",
     "output_type": "stream",
     "text": [
      "+---------+--------------------------------------------------+\n",
      "|visita   |detalhe_lista                                     |\n",
      "+---------+--------------------------------------------------+\n",
      "|447810896|[31616208]                                        |\n",
      "|447815206|[31613493, 30508066]                              |\n",
      "|447817303|[31232002, 30919106, 31814249, 31233153, 31954663]|\n",
      "|447817668|[31726748]                                        |\n",
      "|447818326|[31829832]                                        |\n",
      "+---------+--------------------------------------------------+\n",
      "only showing top 5 rows"
     ]
    }
   ],
   "source": [
    "detalhes.show(5, False)"
   ]
  },
  {
   "cell_type": "markdown",
   "metadata": {},
   "source": [
    "Definição de uma função que irá passar as colunas de posição para linhas e a usando no dataframe `posicoes`:"
   ]
  },
  {
   "cell_type": "code",
   "execution_count": 50,
   "metadata": {},
   "outputs": [
    {
     "data": {
      "application/vnd.jupyter.widget-view+json": {
       "model_id": "",
       "version_major": 2,
       "version_minor": 0
      },
      "text/plain": [
       "FloatProgress(value=0.0, bar_style='info', description='Progress:', layout=Layout(height='25px', width='50%'),…"
      ]
     },
     "metadata": {},
     "output_type": "display_data"
    },
    {
     "name": "stdout",
     "output_type": "stream",
     "text": [
      "root\n",
      " |-- data: date (nullable = true)\n",
      " |-- visita: long (nullable = true)\n",
      " |-- finalOrder: integer (nullable = true)\n",
      " |-- interfaceOrigem: integer (nullable = true)\n",
      " |-- variable: string (nullable = false)\n",
      " |-- value: integer (nullable = true)"
     ]
    }
   ],
   "source": [
    "from pyspark.sql import DataFrame\n",
    "from typing import Iterable\n",
    "\n",
    "def melt(\n",
    "        df: DataFrame, \n",
    "        id_vars: Iterable[str], value_vars: Iterable[str], \n",
    "        var_name: str=\"variable\", value_name: str=\"value\") -> DataFrame:\n",
    "    \"\"\"Convert :class:`DataFrame` from wide to long format.\"\"\"\n",
    "\n",
    "    # Create array<struct<variable: str, value: ...>>\n",
    "    _vars_and_vals = F.array(*(\n",
    "        F.struct(F.lit(c).alias(var_name), F.col(c).alias(value_name)) \n",
    "        for c in value_vars))\n",
    "\n",
    "    # Add to the DataFrame and explode\n",
    "    _tmp = df.withColumn(\"_vars_and_vals\", F.explode(_vars_and_vals))\n",
    "\n",
    "    cols = id_vars + [\n",
    "            F.col(\"_vars_and_vals\")[x].alias(x) for x in [var_name, value_name]]\n",
    "    return _tmp.select(*cols)\n",
    "\n",
    "posicoes_melted = melt(posicoes, id_vars=['data', 'visita', 'finalOrder', 'interfaceOrigem'], value_vars=['01', '02', '03', '04', '05', '06', '07', '08', '09', '10', '11', '12', '13', '14', '15', '16', '17', '18', '19', '20'])\n",
    "\n",
    "posicoes_melted.printSchema()"
   ]
  },
  {
   "cell_type": "code",
   "execution_count": 51,
   "metadata": {},
   "outputs": [
    {
     "data": {
      "application/vnd.jupyter.widget-view+json": {
       "model_id": "",
       "version_major": 2,
       "version_minor": 0
      },
      "text/plain": [
       "FloatProgress(value=0.0, bar_style='info', description='Progress:', layout=Layout(height='25px', width='50%'),…"
      ]
     },
     "metadata": {},
     "output_type": "display_data"
    },
    {
     "name": "stdout",
     "output_type": "stream",
     "text": [
      "+----------+---------+----------+---------------+--------+--------+\n",
      "|data      |visita   |finalOrder|interfaceOrigem|variable|value   |\n",
      "+----------+---------+----------+---------------+--------+--------+\n",
      "|2021-01-01|447817303|4         |0              |01      |31527535|\n",
      "|2021-01-01|447817303|4         |0              |02      |30999100|\n",
      "|2021-01-01|447817303|4         |0              |03      |31871271|\n",
      "|2021-01-01|447817303|4         |0              |04      |31588874|\n",
      "|2021-01-01|447817303|4         |0              |05      |31769255|\n",
      "+----------+---------+----------+---------------+--------+--------+\n",
      "only showing top 5 rows"
     ]
    }
   ],
   "source": [
    "posicoes_melted.where(F.col('value').isNotNull()).show(5, False)"
   ]
  },
  {
   "cell_type": "markdown",
   "metadata": {},
   "source": [
    "Criação de um dataframe onde tem como base o dataframe `posicoes_melted` join com o dataframe `detalhes` e a criação de uma nova coluna chama `houve_detalhe`, onde assume os valores de 0, para quando não foi identificado o anúncio impresso na lista de anúncios visualizados na visita e 1 para quando foi identificado, ou seja, o usuário clicou no anúncio para visualizar os detalhes:\n",
    "> como é processado linha a linha, pode acontecer do usuário ter visto várias listas de anúncios onde um anúncio específico apareceu em posições diferentes, e se o usuário clicou para visualizar os detalhes deste anúncio específico, será contabilizado em todas as posições."
   ]
  },
  {
   "cell_type": "code",
   "execution_count": 52,
   "metadata": {
    "scrolled": false
   },
   "outputs": [
    {
     "data": {
      "application/vnd.jupyter.widget-view+json": {
       "model_id": "",
       "version_major": 2,
       "version_minor": 0
      },
      "text/plain": [
       "FloatProgress(value=0.0, bar_style='info', description='Progress:', layout=Layout(height='25px', width='50%'),…"
      ]
     },
     "metadata": {},
     "output_type": "display_data"
    },
    {
     "name": "stdout",
     "output_type": "stream",
     "text": [
      "root\n",
      " |-- visita: long (nullable = true)\n",
      " |-- data: date (nullable = true)\n",
      " |-- finalOrder: integer (nullable = true)\n",
      " |-- interfaceOrigem: integer (nullable = true)\n",
      " |-- posicaolista: string (nullable = false)\n",
      " |-- anuncio_id: integer (nullable = true)\n",
      " |-- detalhe_lista: array (nullable = true)\n",
      " |    |-- element: integer (containsNull = true)\n",
      " |-- houve_detalhe: integer (nullable = false)"
     ]
    }
   ],
   "source": [
    "lista_detalhes_full = posicoes_melted \\\n",
    "    .join(detalhes, on='visita', how='left') \\\n",
    "    .withColumnRenamed('variable', 'posicaolista') \\\n",
    "    .withColumnRenamed('value', 'anuncio_id') \\\n",
    "    .withColumn('houve_detalhe', F.when(F.arrays_overlap(F.array(F.col('anuncio_id')), F.col('detalhe_lista')), 1).otherwise(0))\n",
    "\n",
    "lista_detalhes_full.printSchema()"
   ]
  },
  {
   "cell_type": "code",
   "execution_count": 53,
   "metadata": {},
   "outputs": [
    {
     "data": {
      "application/vnd.jupyter.widget-view+json": {
       "model_id": "",
       "version_major": 2,
       "version_minor": 0
      },
      "text/plain": [
       "FloatProgress(value=0.0, bar_style='info', description='Progress:', layout=Layout(height='25px', width='50%'),…"
      ]
     },
     "metadata": {},
     "output_type": "display_data"
    },
    {
     "name": "stdout",
     "output_type": "stream",
     "text": [
      "+------+----+----------+---------------+------------+----------+-------------+-------------+\n",
      "|visita|data|finalOrder|interfaceOrigem|posicaolista|anuncio_id|detalhe_lista|houve_detalhe|\n",
      "+------+----+----------+---------------+------------+----------+-------------+-------------+\n",
      "+------+----+----------+---------------+------------+----------+-------------+-------------+"
     ]
    }
   ],
   "source": [
    "lista_detalhes_full \\\n",
    "    .where(F.col('visita') == 496974023) \\\n",
    "    .show(40, False)"
   ]
  },
  {
   "cell_type": "markdown",
   "metadata": {},
   "source": [
    "Agrupamento do dataframe `lista_detalhe_full` ao nível de anúncio:"
   ]
  },
  {
   "cell_type": "code",
   "execution_count": 54,
   "metadata": {},
   "outputs": [
    {
     "data": {
      "application/vnd.jupyter.widget-view+json": {
       "model_id": "",
       "version_major": 2,
       "version_minor": 0
      },
      "text/plain": [
       "FloatProgress(value=0.0, bar_style='info', description='Progress:', layout=Layout(height='25px', width='50%'),…"
      ]
     },
     "metadata": {},
     "output_type": "display_data"
    },
    {
     "name": "stdout",
     "output_type": "stream",
     "text": [
      "root\n",
      " |-- data: date (nullable = true)\n",
      " |-- finalOrder: integer (nullable = true)\n",
      " |-- interfaceOrigem: integer (nullable = true)\n",
      " |-- anuncio_id: integer (nullable = true)\n",
      " |-- posicaolista: string (nullable = false)\n",
      " |-- detalhes: long (nullable = true)\n",
      " |-- impressoes: long (nullable = false)\n",
      " |-- taxa_para_detalhe: double (nullable = true)"
     ]
    }
   ],
   "source": [
    "lista_detalhe_por_anuncio = lista_detalhes_full \\\n",
    "    .groupby('data', 'finalOrder', 'interfaceOrigem', 'anuncio_id', 'posicaolista') \\\n",
    "    .agg(\n",
    "        F.sum('houve_detalhe').alias('detalhes'),\n",
    "        F.count('anuncio_id').alias('impressoes')\n",
    "    ) \\\n",
    "    .withColumn('taxa_para_detalhe', F.when(F.col('detalhes') > 0, F.round((F.col('detalhes') / F.col('impressoes'))*100, 2)))\n",
    "\n",
    "lista_detalhe_por_anuncio.printSchema()"
   ]
  },
  {
   "cell_type": "code",
   "execution_count": 55,
   "metadata": {},
   "outputs": [
    {
     "data": {
      "application/vnd.jupyter.widget-view+json": {
       "model_id": "",
       "version_major": 2,
       "version_minor": 0
      },
      "text/plain": [
       "FloatProgress(value=0.0, bar_style='info', description='Progress:', layout=Layout(height='25px', width='50%'),…"
      ]
     },
     "metadata": {},
     "output_type": "display_data"
    },
    {
     "name": "stdout",
     "output_type": "stream",
     "text": [
      "+----------+----------+---------------+----------+------------+--------+----------+-----------------+\n",
      "|data      |finalOrder|interfaceOrigem|anuncio_id|posicaolista|detalhes|impressoes|taxa_para_detalhe|\n",
      "+----------+----------+---------------+----------+------------+--------+----------+-----------------+\n",
      "|2021-01-01|14        |1              |31406226  |03          |2       |128       |1.56             |\n",
      "|2021-01-01|14        |1              |31375898  |13          |0       |13        |null             |\n",
      "|2021-01-01|14        |1              |31097984  |14          |0       |58        |null             |\n",
      "|2021-01-01|14        |1              |31687525  |12          |0       |9         |null             |\n",
      "|2021-01-01|3         |1              |31606923  |11          |0       |3         |null             |\n",
      "|2021-01-01|14        |1              |30310912  |17          |1       |240       |0.42             |\n",
      "|2021-01-01|3         |1              |31878797  |01          |2       |39        |5.13             |\n",
      "|2021-01-01|3         |1              |31189359  |11          |0       |1         |null             |\n",
      "|2021-01-01|4         |1              |31582056  |19          |0       |1         |null             |\n",
      "|2021-01-01|4         |1              |30044616  |07          |0       |1         |null             |\n",
      "+----------+----------+---------------+----------+------------+--------+----------+-----------------+\n",
      "only showing top 10 rows"
     ]
    }
   ],
   "source": [
    "lista_detalhe_por_anuncio.show(10, False)"
   ]
  },
  {
   "cell_type": "markdown",
   "metadata": {},
   "source": [
    "Gravação do dataframe `lista_detalhe_por_anuncio` em parquet no datalake:"
   ]
  },
  {
   "cell_type": "code",
   "execution_count": 56,
   "metadata": {},
   "outputs": [
    {
     "data": {
      "application/vnd.jupyter.widget-view+json": {
       "model_id": "",
       "version_major": 2,
       "version_minor": 0
      },
      "text/plain": [
       "FloatProgress(value=0.0, bar_style='info', description='Progress:', layout=Layout(height='25px', width='50%'),…"
      ]
     },
     "metadata": {},
     "output_type": "display_data"
    }
   ],
   "source": [
    "lista_detalhe_por_anuncio.coalesce(1).write.mode('append').parquet('s3://datalake.icarros/score_anuncio/base/estudo_posicao_lista/janeiro_2022/')"
   ]
  },
  {
   "cell_type": "code",
   "execution_count": null,
   "metadata": {},
   "outputs": [],
   "source": []
  },
  {
   "cell_type": "code",
   "execution_count": null,
   "metadata": {},
   "outputs": [],
   "source": []
  },
  {
   "cell_type": "code",
   "execution_count": null,
   "metadata": {},
   "outputs": [],
   "source": []
  },
  {
   "cell_type": "code",
   "execution_count": null,
   "metadata": {},
   "outputs": [],
   "source": []
  },
  {
   "cell_type": "code",
   "execution_count": null,
   "metadata": {},
   "outputs": [],
   "source": []
  }
 ],
 "metadata": {
  "kernelspec": {
   "display_name": "Sparkmagic (PySpark)",
   "language": "",
   "name": "pysparkkernel"
  },
  "language_info": {
   "codemirror_mode": {
    "name": "python",
    "version": 3
   },
   "mimetype": "text/x-python",
   "name": "pyspark",
   "pygments_lexer": "python3"
  }
 },
 "nbformat": 4,
 "nbformat_minor": 4
}
